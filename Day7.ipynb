{
  "nbformat": 4,
  "nbformat_minor": 0,
  "metadata": {
    "colab": {
      "provenance": [],
      "authorship_tag": "ABX9TyML2SUJbGn5dmtAIuEVL4kL",
      "include_colab_link": true
    },
    "kernelspec": {
      "name": "python3",
      "display_name": "Python 3"
    },
    "language_info": {
      "name": "python"
    }
  },
  "cells": [
    {
      "cell_type": "markdown",
      "metadata": {
        "id": "view-in-github",
        "colab_type": "text"
      },
      "source": [
        "<a href=\"https://colab.research.google.com/github/anjanananda/Assignments/blob/main/Day7.ipynb\" target=\"_parent\"><img src=\"https://colab.research.google.com/assets/colab-badge.svg\" alt=\"Open In Colab\"/></a>"
      ]
    },
    {
      "cell_type": "code",
      "execution_count": 1,
      "metadata": {
        "colab": {
          "base_uri": "https://localhost:8080/"
        },
        "id": "C95EJwnanpLz",
        "outputId": "5dc1cd89-4f7d-4149-b376-f1aa2c4d5dcb"
      },
      "outputs": [
        {
          "output_type": "stream",
          "name": "stdout",
          "text": [
            "Requirement already satisfied: gensim in /usr/local/lib/python3.11/dist-packages (4.3.3)\n",
            "Requirement already satisfied: nltk in /usr/local/lib/python3.11/dist-packages (3.9.1)\n",
            "Requirement already satisfied: numpy<2.0,>=1.18.5 in /usr/local/lib/python3.11/dist-packages (from gensim) (1.26.4)\n",
            "Requirement already satisfied: scipy<1.14.0,>=1.7.0 in /usr/local/lib/python3.11/dist-packages (from gensim) (1.13.1)\n",
            "Requirement already satisfied: smart-open>=1.8.1 in /usr/local/lib/python3.11/dist-packages (from gensim) (7.1.0)\n",
            "Requirement already satisfied: click in /usr/local/lib/python3.11/dist-packages (from nltk) (8.1.8)\n",
            "Requirement already satisfied: joblib in /usr/local/lib/python3.11/dist-packages (from nltk) (1.4.2)\n",
            "Requirement already satisfied: regex>=2021.8.3 in /usr/local/lib/python3.11/dist-packages (from nltk) (2024.11.6)\n",
            "Requirement already satisfied: tqdm in /usr/local/lib/python3.11/dist-packages (from nltk) (4.67.1)\n",
            "Requirement already satisfied: wrapt in /usr/local/lib/python3.11/dist-packages (from smart-open>=1.8.1->gensim) (1.17.0)\n"
          ]
        }
      ],
      "source": [
        "pip install gensim nltk\n"
      ]
    },
    {
      "cell_type": "code",
      "source": [
        "import os\n",
        "from gensim.utils import simple_preprocess\n",
        "from gensim.parsing.preprocessing import STOPWORDS\n",
        "from nltk.stem import SnowballStemmer\n",
        "from nltk.stem import WordNetLemmatizer\n",
        "from nltk import download\n",
        "download('wordnet')\n",
        "download('omw-1.4')\n",
        "\n",
        "stemmer = SnowballStemmer(\"english\")\n",
        "lemmatizer = WordNetLemmatizer()\n",
        "\n",
        "def preprocess_text(text):\n",
        "    \"\"\"\n",
        "    Preprocesses the input text:\n",
        "    1. Tokenization\n",
        "    2. Lowercasing\n",
        "    3. Removing stopwords\n",
        "    4. Stemming\n",
        "    5. Lemmatization\n",
        "    \"\"\"\n",
        "    # Tokenize and lowercase the text\n",
        "    tokens = simple_preprocess(text, deacc=True)\n",
        "\n",
        "    # Remove stopwords\n",
        "    tokens = [token for token in tokens if token not in STOPWORDS]\n",
        "\n",
        "    # Stemming and lemmatization\n",
        "    processed_tokens = [stemmer.stem(lemmatizer.lemmatize(token)) for token in tokens]\n",
        "\n",
        "    return processed_tokens\n",
        "\n",
        "def process_file(file_path):\n",
        "    \"\"\"\n",
        "    Reads and preprocesses text from a file.\n",
        "    \"\"\"\n",
        "    if not os.path.exists(file_path):\n",
        "        print(f\"File not found: {file_path}\")\n",
        "        return\n",
        "\n",
        "    with open(file_path, 'r', encoding='utf-8') as file:\n",
        "        text = file.read()\n",
        "\n",
        "    preprocessed_text = preprocess_text(text)\n",
        "    return preprocessed_text\n",
        "\n",
        "# Example usage\n",
        "if __name__ == \"__main__\":\n",
        "    # Provide the path to your sample text file\n",
        "    sample_file = \"sample_text.txt\"\n",
        "\n",
        "    # Process the file\n",
        "    processed_data = process_file(sample_file)\n",
        "\n",
        "    if processed_data:\n",
        "        print(\"Original tokens:\", processed_data)\n"
      ],
      "metadata": {
        "colab": {
          "base_uri": "https://localhost:8080/"
        },
        "id": "bO8EXYFOn3J3",
        "outputId": "4b709151-9a37-4b0e-f11e-b6297961b353"
      },
      "execution_count": 2,
      "outputs": [
        {
          "output_type": "stream",
          "name": "stderr",
          "text": [
            "[nltk_data] Downloading package wordnet to /root/nltk_data...\n",
            "[nltk_data] Downloading package omw-1.4 to /root/nltk_data...\n"
          ]
        },
        {
          "output_type": "stream",
          "name": "stdout",
          "text": [
            "File not found: sample_text.txt\n"
          ]
        }
      ]
    }
  ]
}