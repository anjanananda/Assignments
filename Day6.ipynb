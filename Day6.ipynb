{
  "nbformat": 4,
  "nbformat_minor": 0,
  "metadata": {
    "colab": {
      "provenance": [],
      "authorship_tag": "ABX9TyN0kXXoiSxyrnAkfYHRz9GY",
      "include_colab_link": true
    },
    "kernelspec": {
      "name": "python3",
      "display_name": "Python 3"
    },
    "language_info": {
      "name": "python"
    }
  },
  "cells": [
    {
      "cell_type": "markdown",
      "metadata": {
        "id": "view-in-github",
        "colab_type": "text"
      },
      "source": [
        "<a href=\"https://colab.research.google.com/github/anjanananda/Assignments/blob/main/Day6.ipynb\" target=\"_parent\"><img src=\"https://colab.research.google.com/assets/colab-badge.svg\" alt=\"Open In Colab\"/></a>"
      ]
    },
    {
      "cell_type": "code",
      "execution_count": 2,
      "metadata": {
        "colab": {
          "base_uri": "https://localhost:8080/"
        },
        "id": "DAl0cWqZmzny",
        "outputId": "c3aaf93f-09a6-4d86-94cb-dac84fd08955"
      },
      "outputs": [
        {
          "output_type": "stream",
          "name": "stderr",
          "text": [
            "[nltk_data] Downloading package stopwords to /root/nltk_data...\n",
            "[nltk_data]   Package stopwords is already up-to-date!\n"
          ]
        },
        {
          "output_type": "stream",
          "name": "stdout",
          "text": [
            "Original Text: This is a Sample Text to demonstrate Text Processing using NLTK and SpaCy.\n",
            "Lowercase Text: this is a sample text to demonstrate text processing using nltk and spacy .\n",
            "Filtered Text: sample text demonstrate text processing using nltk spacy .\n"
          ]
        }
      ],
      "source": [
        "import nltk\n",
        "import spacy\n",
        "from nltk.corpus import stopwords\n",
        "\n",
        "nltk.download('stopwords')\n",
        "\n",
        "nlp = spacy.load('en_core_web_sm')\n",
        "\n",
        "text = \"This is a Sample Text to demonstrate Text Processing using NLTK and SpaCy.\"\n",
        "\n",
        "doc = nlp(text)\n",
        "lower_text = \" \".join([token.text.lower() for token in doc])\n",
        "\n",
        "stop_words = set(stopwords.words('english'))\n",
        "filtered_text = \" \".join([word for word in lower_text.split() if word not in stop_words])\n",
        "\n",
        "print(\"Original Text:\", text)\n",
        "print(\"Lowercase Text:\", lower_text)\n",
        "print(\"Filtered Text:\", filtered_text)"
      ]
    }
  ]
}