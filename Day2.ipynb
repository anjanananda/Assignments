{
  "nbformat": 4,
  "nbformat_minor": 0,
  "metadata": {
    "colab": {
      "provenance": [],
      "authorship_tag": "ABX9TyM/zBMXRJ93djdQd16V2Igg",
      "include_colab_link": true
    },
    "kernelspec": {
      "name": "python3",
      "display_name": "Python 3"
    },
    "language_info": {
      "name": "python"
    }
  },
  "cells": [
    {
      "cell_type": "markdown",
      "metadata": {
        "id": "view-in-github",
        "colab_type": "text"
      },
      "source": [
        "<a href=\"https://colab.research.google.com/github/anjanananda/Assignments/blob/main/Day2.ipynb\" target=\"_parent\"><img src=\"https://colab.research.google.com/assets/colab-badge.svg\" alt=\"Open In Colab\"/></a>"
      ]
    },
    {
      "cell_type": "code",
      "execution_count": 1,
      "metadata": {
        "colab": {
          "base_uri": "https://localhost:8080/"
        },
        "id": "eYG2lbNfrnUt",
        "outputId": "7e01cdf1-f125-4f53-a75a-91937c68eaf8"
      },
      "outputs": [
        {
          "output_type": "stream",
          "name": "stdout",
          "text": [
            "10\n",
            "30\n",
            "50\n",
            "1\n",
            "3\n",
            "5\n",
            "100\n",
            "300\n",
            "500\n"
          ]
        }
      ],
      "source": [
        "#!/usr/bin/env python\n",
        "# coding: utf-8\n",
        "\n",
        "# In[1]:\n",
        "\n",
        "\n",
        "my_list = [10, 20, 30, 40, 50]\n",
        "\n",
        "print(my_list[0])\n",
        "print(my_list[2])\n",
        "print(my_list[-1])\n",
        "\n",
        "\n",
        "# In[2]:\n",
        "\n",
        "\n",
        "my_tuple = (1, 2, 3, 4, 5)\n",
        "\n",
        "print(my_tuple[0])\n",
        "print(my_tuple[2])\n",
        "print(my_tuple[-1])\n",
        "\n",
        "\n",
        "# In[3]:\n",
        "\n",
        "\n",
        "my_dict = {\"a\": 100, \"b\": 200, \"c\": 300, \"d\": 400, \"e\": 500}\n",
        "\n",
        "print(my_dict[\"a\"])\n",
        "print(my_dict[\"c\"])\n",
        "print(my_dict[\"e\"])\n",
        "\n",
        "\n",
        "\n",
        "\n",
        "\n",
        "\n"
      ]
    }
  ]
}