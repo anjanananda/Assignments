{
  "nbformat": 4,
  "nbformat_minor": 0,
  "metadata": {
    "colab": {
      "provenance": [],
      "authorship_tag": "ABX9TyNujX6NBIVa2GQIsYF+pqoP",
      "include_colab_link": true
    },
    "kernelspec": {
      "name": "python3",
      "display_name": "Python 3"
    },
    "language_info": {
      "name": "python"
    }
  },
  "cells": [
    {
      "cell_type": "markdown",
      "metadata": {
        "id": "view-in-github",
        "colab_type": "text"
      },
      "source": [
        "<a href=\"https://colab.research.google.com/github/anjanananda/Assignments/blob/main/Day8.ipynb\" target=\"_parent\"><img src=\"https://colab.research.google.com/assets/colab-badge.svg\" alt=\"Open In Colab\"/></a>"
      ]
    },
    {
      "source": [
        "import nltk\n",
        "\n",
        "# Download the required data package\n",
        "nltk.download('punkt_tab')\n",
        "\n",
        "# Rest of the code remains the same\n",
        "paragraph = \"\"\"Natural Language Processing (NLP) is a fascinating field of study.\n",
        "It involves the interaction between computers and humans using natural language.\n",
        "There are many applications of NLP, such as sentiment analysis, language translation, and chatbots.\"\"\"\n",
        "\n",
        "sentences = nltk.sent_tokenize(paragraph)\n",
        "\n",
        "words = nltk.word_tokenize(paragraph)\n",
        "\n",
        "print(\"Original Paragraph:\", paragraph)\n",
        "print(\"\\nTokenized Sentences:\", sentences)\n",
        "print(\"\\nTokenized Words:\", words)"
      ],
      "cell_type": "code",
      "metadata": {
        "id": "VgrESzN7o8rg",
        "outputId": "2996429b-17d6-4d1b-bee5-e5ef5871ccb3",
        "colab": {
          "base_uri": "https://localhost:8080/"
        }
      },
      "execution_count": 5,
      "outputs": [
        {
          "output_type": "stream",
          "name": "stderr",
          "text": [
            "[nltk_data] Downloading package punkt_tab to /root/nltk_data...\n",
            "[nltk_data]   Unzipping tokenizers/punkt_tab.zip.\n"
          ]
        },
        {
          "output_type": "stream",
          "name": "stdout",
          "text": [
            "Original Paragraph: Natural Language Processing (NLP) is a fascinating field of study.\n",
            "It involves the interaction between computers and humans using natural language.\n",
            "There are many applications of NLP, such as sentiment analysis, language translation, and chatbots.\n",
            "\n",
            "Tokenized Sentences: ['Natural Language Processing (NLP) is a fascinating field of study.', 'It involves the interaction between computers and humans using natural language.', 'There are many applications of NLP, such as sentiment analysis, language translation, and chatbots.']\n",
            "\n",
            "Tokenized Words: ['Natural', 'Language', 'Processing', '(', 'NLP', ')', 'is', 'a', 'fascinating', 'field', 'of', 'study', '.', 'It', 'involves', 'the', 'interaction', 'between', 'computers', 'and', 'humans', 'using', 'natural', 'language', '.', 'There', 'are', 'many', 'applications', 'of', 'NLP', ',', 'such', 'as', 'sentiment', 'analysis', ',', 'language', 'translation', ',', 'and', 'chatbots', '.']\n"
          ]
        }
      ]
    },
    {
      "cell_type": "code",
      "source": [],
      "metadata": {
        "id": "kHakILGpol4_"
      },
      "execution_count": null,
      "outputs": []
    }
  ]
}